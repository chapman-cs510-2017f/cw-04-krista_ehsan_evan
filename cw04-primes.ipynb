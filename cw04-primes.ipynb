{
 "cells": [
  {
   "cell_type": "code",
   "execution_count": 1,
   "metadata": {
    "collapsed": false
   },
   "outputs": [
   ],
   "source": [
    "import numpy as np\n",
    "import sympy as sp\n",
    "import pandas as pd\n",
    "import primes"
   ]
  },
  {
   "cell_type": "markdown",
   "metadata": {
    "collapsed": false
   },
   "source": [
    "# The Sieve of Eratosthenes"
   ]
  },
  {
   "cell_type": "code",
   "execution_count": 0,
   "metadata": {
    "collapsed": false
   },
   "outputs": [
   ],
   "source": [
   ]
  },
  {
   "cell_type": "markdown",
   "metadata": {
    "collapsed": false
   },
   "source": [
    "## The goal of the algorithm"
   ]
  },
  {
   "cell_type": "markdown",
   "metadata": {
    "collapsed": false
   },
   "source": [
    "Given a number n, print all primes smaller than or equal to n. It is also given that n is a small number.\n",
    "For example, if n is 10, the output should be “2, 3, 5, 7”. If n is 20, the output should be “2, 3, 5, 7, 11, 13, 17, 19”.\n",
    "\n",
    "The sieve of Eratosthenes is one of the most efficient ways to find all primes smaller than n when n is smaller than 10 million or so (Ref Wiki)."
   ]
  },
  {
   "cell_type": "markdown",
   "metadata": {
    "collapsed": false
   },
   "source": [
    "Following is the algorithm to find all the prime numbers less than or equal to a given integer n by Eratosthenes’ method:\n",
    "\n",
    "1. Create a list of consecutive integers from 2 to n: (2, 3, 4, …, n).\n",
    "2. Initially, let p equal 2, the first prime number.\n",
    "3. Starting from p, count up in increments of p and mark each of these numbers greater than p itself in the list. These numbers will be 2p, 3p, 4p, etc.; note that some of them may have already been marked.\n",
    "4. Find the first number greater than p in the list that is not marked. If there was no such number, stop. Otherwise, let p now equal this number (which is the next prime), and repeat from step 3.\n",
    "\n",
    "When the algorithm terminates, all the numbers in the list that are not marked are prime.\n",
    "\n"
   ]
  },
  {
   "cell_type": "markdown",
   "metadata": {
    "collapsed": false
   },
   "source": [
    "### Explanation with Example:"
   ]
  },
  {
   "cell_type": "markdown",
   "metadata": {
    "collapsed": false
   },
   "source": [
    "Let us take an example when n = 50. So we need to print all print numbers smaller than or equal to 50.\n",
    "\n",
    "We create a list of all numbers from 2 to 50."
   ]
  },
  {
   "cell_type": "markdown",
   "metadata": {
    "collapsed": false
   },
   "source": [
    "\n",
    "|  | 2   | 3 | 4 | 5 | 6 | 7 | 8 | 9 | 10 |\n",
    "|---|---|---|---|---|---|---|---|---|---|\n",
    "| 11 | 12   | 13 | 14 | 15 | 16 | 17 | 18 | 19 | 20 |\n",
    "|---|---|---|---|---|---|---|---|---|---|\n",
    "| 21 | 22   | 23 | 24 | 25 | 26 | 27 | 28 | 29 | 30 |\n",
    "|---|---|---|---|---|---|---|---|---|---|\n",
    "| 31 | 32   | 33 | 34 | 35 | 36 | 37 | 38 | 39 | 40 |\n",
    "|---|---|---|---|---|---|---|---|---|---|\n",
    "| 41 | 42   | 43 | 44 | 45 | 46 | 47 | 48 | 49 | 50 |\n",
    "|---|---|---|---|---|---|---|---|---|---|"
   ]
  },
  {
   "cell_type": "markdown",
   "metadata": {
    "collapsed": false
   },
   "source": [
    "According to the algorithm we will mark all the numbers which are divisible by 2."
   ]
  },
  {
   "cell_type": "markdown",
   "metadata": {
    "collapsed": false
   },
   "source": [
    "\n",
    "|  | 2   | 3 | <span style=\"color:red\">4 | 5 | <span style=\"color:red\">6 | 7 | <span style=\"color:red\">8 | 9 | <span style=\"color:red\">10 |\n",
    "|---|---|---|---|---|---|---|---|---|---|\n",
    "| 11 | <span style=\"color:red\">12   | 13 | <span style=\"color:red\">14 | 15 | <span style=\"color:red\">16 | 17 | <span style=\"color:red\">18 | 19 | <span style=\"color:red\">20 |\n",
    "|---|---|---|---|---|---|---|---|---|---|\n",
    "| 21 | <span style=\"color:red\">22   | 23 | <span style=\"color:red\">24 | 25 | <span style=\"color:red\">26 | 27 | <span style=\"color:red\">28 | 29 | <span style=\"color:red\">30 |\n",
    "|---|---|---|---|---|---|---|---|---|---|\n",
    "| 31 | <span style=\"color:red\">32   | 33 | <span style=\"color:red\">34 | 35 | <span style=\"color:red\">36 | 37 | <span style=\"color:red\">38 | 39 | <span style=\"color:red\">40 |\n",
    "|---|---|---|---|---|---|---|---|---|---|\n",
    "| 41 | <span style=\"color:red\">42   | 43 | <span style=\"color:red\">44 | 45 | <span style=\"color:red\">46 | 47 | <span style=\"color:red\">48 | 49 | <span style=\"color:red\">50 |\n",
    "|---|---|---|---|---|---|---|---|---|---|"
   ]
  },
  {
   "cell_type": "markdown",
   "metadata": {
    "collapsed": false
   },
   "source": [
    "Now we move to our next unmarked number 3 and mark all the numbers which are multiples of 3."
   ]
  },
  {
   "cell_type": "markdown",
   "metadata": {
    "collapsed": false
   },
   "source": [
    "\n",
    "|  | 2   | 3 | 4 | 5 | 6 | 7 | 8 | 9 | 10 |\n",
    "|---|---|---|---|---|---|---|---|---|---|\n",
    "| 11 | 12   | 13 | 14 | 15 | 16 | 17 | 18 | 19 | 20 |\n",
    "|---|---|---|---|---|---|---|---|---|---|\n",
    "| 21 | 22   | 23 | 24 | 25 | 26 | 27 | 28 | 29 | 30 |\n",
    "|---|---|---|---|---|---|---|---|---|---|\n",
    "| 31 | 32   | 33 | 34 | 35 | 36 | 37 | 38 | 39 | 40 |\n",
    "|---|---|---|---|---|---|---|---|---|---|\n",
    "| 41 | 42   | 43 | 44 | 45 | 46 | 47 | 48 | 49 | 50 |\n",
    "|---|---|---|---|---|---|---|---|---|---|"
   ]
  },
  {
   "cell_type": "markdown",
   "metadata": {
    "collapsed": false
   },
   "source": [
    "We move to our next unmarked number 5 and mark all multiples of 5."
   ]
  },
  {
   "cell_type": "markdown",
   "metadata": {
    "collapsed": false
   },
   "source": [
    "\n",
    "|  | 2   | 3 | 4 | 5 | 6 | 7 | 8 | 9 | 10 |\n",
    "|---|---|---|---|---|---|---|---|---|---|\n",
    "| 11 | 12   | 13 | 14 | 15 | 16 | 17 | 18 | 19 | 20 |\n",
    "|---|---|---|---|---|---|---|---|---|---|\n",
    "| 21 | 22   | 23 | 24 | 25 | 26 | 27 | 28 | 29 | 30 |\n",
    "|---|---|---|---|---|---|---|---|---|---|\n",
    "| 31 | 32   | 33 | 34 | 35 | 36 | 37 | 38 | 39 | 40 |\n",
    "|---|---|---|---|---|---|---|---|---|---|\n",
    "| 41 | 42   | 43 | 44 | 45 | 46 | 47 | 48 | 49 | 50 |\n",
    "|---|---|---|---|---|---|---|---|---|---|"
   ]
  },
  {
   "cell_type": "markdown",
   "metadata": {
    "collapsed": false
   },
   "source": [
    "We continue this process and our final table will look like below:"
   ]
  },
  {
   "cell_type": "markdown",
   "metadata": {
    "collapsed": false
   },
   "source": [
    "\n",
    "|  | 2   | 3 | 4 | 5 | 6 | 7 | 8 | 9 | 10 |\n",
    "|---|---|---|---|---|---|---|---|---|---|\n",
    "| 11 | 12   | 13 | 14 | 15 | 16 | 17 | 18 | 19 | 20 |\n",
    "|---|---|---|---|---|---|---|---|---|---|\n",
    "| 21 | 22   | 23 | 24 | 25 | 26 | 27 | 28 | 29 | 30 |\n",
    "|---|---|---|---|---|---|---|---|---|---|\n",
    "| 31 | 32   | 33 | 34 | 35 | 36 | 37 | 38 | 39 | 40 |\n",
    "|---|---|---|---|---|---|---|---|---|---|\n",
    "| 41 | 42   | 43 | 44 | 45 | 46 | 47 | 48 | 49 | 50 |\n",
    "|---|---|---|---|---|---|---|---|---|---|"
   ]
  },
  {
   "cell_type": "markdown",
   "metadata": {
    "collapsed": false
   },
   "source": [
    "So the prime numbers are the unmarked ones: 2, 3, 5, 7, 11, 13, 17, 19, 23, 29, 31, 37, 41, 43, 47."
   ]
  },
  {
   "cell_type": "code",
   "execution_count": 0,
   "metadata": {
    "collapsed": false
   },
   "outputs": [
   ],
   "source": [
   ]
  },
  {
   "cell_type": "code",
   "execution_count": 0,
   "metadata": {
    "collapsed": false
   },
   "outputs": [
   ],
   "source": [
   ]
  },
  {
   "cell_type": "markdown",
   "metadata": {
    "collapsed": false
   },
   "source": [
    "This <span style=\"color:red\">word</span> is not black."
   ]
  }
 ],
 "metadata": {
  "kernelspec": {
   "display_name": "Python 3 (Ubuntu Linux)",
   "language": "python",
   "name": "python3"
  },
  "language_info": {
   "codemirror_mode": {
    "name": "ipython",
    "version": 3
   },
   "file_extension": ".py",
   "mimetype": "text/x-python",
   "name": "python",
   "nbconvert_exporter": "python",
   "pygments_lexer": "ipython3",
   "version": "3.5.2"
  }
 },
 "nbformat": 4,
 "nbformat_minor": 0
}